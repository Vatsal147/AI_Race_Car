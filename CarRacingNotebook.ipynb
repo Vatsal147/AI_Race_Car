{
 "cells": [
  {
   "cell_type": "code",
   "execution_count": null,
   "id": "1e70461c",
   "metadata": {},
   "outputs": [],
   "source": [
    "#import dependencies and create environement\n",
    "import gym \n",
    "from stable_baselines3 import PPO\n",
    "from stable_baselines3.common.vec_env import DummyVecEnv\n",
    "from stable_baselines3.common.evaluation import evaluate_policy\n",
    "import os\n",
    "\n",
    "\n",
    "\n",
    "environment_name = \"CarRacing-v0\"\n",
    "env = gym.make(environment_name)"
   ]
  },
  {
   "cell_type": "code",
   "execution_count": null,
   "id": "878cc9ab",
   "metadata": {},
   "outputs": [],
   "source": [
    "#simple while loop to run the raw random action policy\n",
    "\n",
    "total_episodes = 3\n",
    "for i in range(1, total_episodes+1): #loops through episodes: i is the episode number\n",
    "    obs = env.reset()\n",
    "    over = False\n",
    "    score = 0 \n",
    "    \n",
    "    while over == False:  #loops through timesteps within an episode\n",
    "        env.render()\n",
    "        action = env.action_space.sample() #chooses a random action\n",
    "        obs, reward, over, info = env.step(action)\n",
    "        score+=reward\n",
    "    print(f'Episode:{i} Score:{score}')\n",
    "env.close()"
   ]
  },
  {
   "cell_type": "code",
   "execution_count": null,
   "id": "efbfc88a",
   "metadata": {},
   "outputs": [],
   "source": [
    "env.close() #use this to close the python window"
   ]
  },
  {
   "cell_type": "code",
   "execution_count": null,
   "id": "11d6749e",
   "metadata": {},
   "outputs": [],
   "source": [
    "env = gym.make(\"CarRacing-v0\")\n",
    "env = DummyVecEnv([lambda:env]) #creates a dummy vectorised environment so that original is left unaffected\n"
   ]
  },
  {
   "cell_type": "markdown",
   "id": "d526e42c",
   "metadata": {},
   "source": [
    "# 1,00,000 Training Steps:"
   ]
  },
  {
   "cell_type": "code",
   "execution_count": null,
   "id": "5d435335",
   "metadata": {},
   "outputs": [],
   "source": [
    "logdirec = os.path.join('TrainingGrand', 'FinalLog')\n",
    "model1 = PPO('CnnPolicy', env, verbose=1, tensorboard_log=logdirec)"
   ]
  },
  {
   "cell_type": "code",
   "execution_count": null,
   "id": "b0c74173",
   "metadata": {},
   "outputs": [],
   "source": [
    "model1.learn(1000000)#The training details of this model are attached in Repo: i.e. its progress is given"
   ]
  },
  {
   "cell_type": "code",
   "execution_count": null,
   "id": "e6d4e059",
   "metadata": {},
   "outputs": [],
   "source": []
  },
  {
   "cell_type": "markdown",
   "id": "2ee01fb6",
   "metadata": {},
   "source": [
    "# 4,30,000 Training Steps:"
   ]
  },
  {
   "cell_type": "code",
   "execution_count": null,
   "id": "1df120fa",
   "metadata": {},
   "outputs": [],
   "source": [
    "#Runs and renders a trained model of 4,30,000 steps, zip attached in repo; extract it to same directory as this notebook\n",
    "model3 = PPO.load( 'PPO_430k_model')\n",
    "evaluate_policy(model2, env, n_eval_episodes=10, render = True)"
   ]
  },
  {
   "cell_type": "code",
   "execution_count": null,
   "id": "af6da4ba",
   "metadata": {},
   "outputs": [],
   "source": [
    "env.close()"
   ]
  },
  {
   "cell_type": "markdown",
   "id": "36c4af36",
   "metadata": {},
   "source": [
    "# 1,900,000 Training Steps\n"
   ]
  },
  {
   "cell_type": "code",
   "execution_count": null,
   "id": "234eb3bb",
   "metadata": {},
   "outputs": [],
   "source": [
    "model2 = PPO.load('PPO_1m9k_model')\n",
    "evaluate_policy(model2, env, n_eval_episodes=10, render = 0)\n"
   ]
  },
  {
   "cell_type": "code",
   "execution_count": null,
   "id": "0eaece34",
   "metadata": {},
   "outputs": [],
   "source": [
    "model2.learn(total_timesteps=1_900_000)#This was used to train the model\n"
   ]
  },
  {
   "cell_type": "code",
   "execution_count": null,
   "id": "f494638e",
   "metadata": {},
   "outputs": [],
   "source": [
    "path = os.path.join('Training2m', 'FinalModel2m')\n",
    "model2.save(path)"
   ]
  },
  {
   "cell_type": "markdown",
   "id": "3003d140",
   "metadata": {},
   "source": [
    "env.close()"
   ]
  }
 ],
 "metadata": {
  "kernelspec": {
   "display_name": "Python (RLProj)",
   "language": "python",
   "name": "rlproj"
  },
  "language_info": {
   "codemirror_mode": {
    "name": "ipython",
    "version": 3
   },
   "file_extension": ".py",
   "mimetype": "text/x-python",
   "name": "python",
   "nbconvert_exporter": "python",
   "pygments_lexer": "ipython3",
   "version": "3.6.13"
  }
 },
 "nbformat": 4,
 "nbformat_minor": 5
}
